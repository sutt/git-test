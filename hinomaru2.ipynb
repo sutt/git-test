{
 "cells": [
  {
   "cell_type": "code",
   "execution_count": 7,
   "metadata": {
    "collapsed": true
   },
   "outputs": [],
   "source": [
    "t, s = TILES, SOLUTION"
   ]
  },
  {
   "cell_type": "code",
   "execution_count": 55,
   "metadata": {
    "collapsed": false
   },
   "outputs": [
    {
     "name": "stdout",
     "output_type": "stream",
     "text": [
      "[12, 2, 3, 6] [12, 18]\n"
     ]
    }
   ],
   "source": [
    "print recurse_dims(t), recurse_dims(s)\n",
    "_TILES, _SIDES,_TYVECS, _TXDOTS = recurse_dims(t)\n",
    "_SYVECS, _SXDOTS = recurse_dims(s)\n"
   ]
  },
  {
   "cell_type": "code",
   "execution_count": 9,
   "metadata": {
    "collapsed": true
   },
   "outputs": [],
   "source": [
    "def mod(dims,solution):\n",
    "    return filter(lambda p: any( map(lambda dim: (p) % (dim) == 0,dims) ), \\\n",
    "                  range(0,solution) )"
   ]
  },
  {
   "cell_type": "code",
   "execution_count": 10,
   "metadata": {
    "collapsed": false
   },
   "outputs": [
    {
     "name": "stdout",
     "output_type": "stream",
     "text": [
      "[0, 3, 6, 9, 12, 15] [0, 3, 6, 9]\n"
     ]
    }
   ],
   "source": [
    "modx = mod((_TXDOTS,_TYVECS),_SXDOTS)\n",
    "mody = mod((_TXDOTS,_TYVECS),_SYVECS)\n",
    "print modx, mody"
   ]
  },
  {
   "cell_type": "code",
   "execution_count": 11,
   "metadata": {
    "collapsed": false
   },
   "outputs": [
    {
     "name": "stdout",
     "output_type": "stream",
     "text": [
      "[(0, 0, 0), (0, 0, 1), (0, 3, 0), (0, 3, 1)]\n"
     ]
    },
    {
     "data": {
      "text/plain": [
       "48"
      ]
     },
     "execution_count": 11,
     "metadata": {},
     "output_type": "execute_result"
    }
   ],
   "source": [
    "# z: orientation => 0: stout, 6longx3high ; 1: tall: 3longx6high\n",
    "modxy = [(x,y) for x in modx for y in mody]\n",
    "modxyz = [(a[0],a[1],b) for a in modxy for b in range(2)]\n",
    "print modxyz[:4]\n",
    "len(modxyz)"
   ]
  },
  {
   "cell_type": "code",
   "execution_count": 19,
   "metadata": {
    "collapsed": true
   },
   "outputs": [],
   "source": [
    "def tilemark(tx,xx,yy,zz,ff):\n",
    "    flip = -1 if ff else 1\n",
    "    tt = [x[::flip] for x in tx[::flip]]\n",
    "    if not(zz):\n",
    "        out = tt[yy][xx]    #x:[0,5], y:[0,2]\n",
    "    else:    \n",
    "        out = tt[2-xx][yy]  #x:[0,2], y:[0,5]\n",
    "    return out\n",
    "\n",
    "def matchtile(tile,flip,xyz):\n",
    "    x,y,z = xyz[0], xyz[1], xyz[2]\n",
    "    r0, r1 = range(3), range(6)\n",
    "    xiter, yiter = (r0,r1) if z else (r1,r0)\n",
    "    try:\n",
    "        out = all( [s[y+ y0][x + x0] == tilemark(tile,x0,y0,z,flip) for x0 in xiter for y0 in yiter])\n",
    "        return out\n",
    "    except:\n",
    "        return False #error occurs because some shapes are bigger than smallest mod"
   ]
  },
  {
   "cell_type": "code",
   "execution_count": 14,
   "metadata": {
    "collapsed": false
   },
   "outputs": [
    {
     "data": {
      "text/plain": [
       "2304"
      ]
     },
     "execution_count": 14,
     "metadata": {},
     "output_type": "execute_result"
    }
   ],
   "source": [
    "combos = [(tile, flip,tileside,xyz,indt) for flip in range(2) for tileside in range(2) for xyz in modxyz for indt,tile in enumerate(t)]\n",
    "len(combos)"
   ]
  },
  {
   "cell_type": "code",
   "execution_count": 15,
   "metadata": {
    "collapsed": false
   },
   "outputs": [
    {
     "data": {
      "text/plain": [
       "126"
      ]
     },
     "execution_count": 15,
     "metadata": {},
     "output_type": "execute_result"
    }
   ],
   "source": [
    "valid = filter(lambda i: matchtile(i[0][i[1]],i[2],i[3]), combos)\n",
    "len(valid)"
   ]
  },
  {
   "cell_type": "code",
   "execution_count": 16,
   "metadata": {
    "collapsed": false
   },
   "outputs": [
    {
     "name": "stdout",
     "output_type": "stream",
     "text": [
      "[10, 9, 11, 7, 8, 3, 4, 8, 0, 1, 2, 0, 1, 2, 0, 1, 2, 5, 3, 4, 6, 0, 1, 2, 5, 6, 7, 5, 6, 7, 3, 4, 6, 0, 1, 2, 0, 1, 2, 0, 1, 2, 8, 5, 0, 1, 2, 7, 11, 9, 3, 4, 10, 8, 8, 10, 4, 7, 9, 11, 4, 7, 9, 11, 4, 7, 9, 11, 6, 0, 3, 6, 0, 2, 3, 5, 1, 2, 4, 7, 9, 11, 4, 7, 9, 11, 4, 7, 9, 11, 4, 7, 9, 11, 1, 4, 7, 9, 11, 4, 7, 9, 11, 5, 3, 2, 2, 6, 0, 0, 3, 6, 8, 10, 4, 7, 9, 11, 4, 7, 9, 11, 4, 7, 9, 11]\n"
     ]
    }
   ],
   "source": [
    "valid_tiles = map(lambda t: t[4], valid)\n",
    "print valid_tiles"
   ]
  },
  {
   "cell_type": "code",
   "execution_count": 17,
   "metadata": {
    "collapsed": false
   },
   "outputs": [
    {
     "data": {
      "text/plain": [
       "[(10, 4),\n",
       " (5, 6),\n",
       " (8, 6),\n",
       " (3, 8),\n",
       " (6, 8),\n",
       " (1, 10),\n",
       " (0, 12),\n",
       " (2, 12),\n",
       " (9, 14),\n",
       " (11, 14),\n",
       " (4, 16),\n",
       " (7, 16)]"
      ]
     },
     "execution_count": 17,
     "metadata": {},
     "output_type": "execute_result"
    }
   ],
   "source": [
    "common_tiles = [(i,valid_tiles.count(i)) for i in range (_TILES)]\n",
    "common_tiles.sort(key = lambda t: t[1])\n",
    "common_tiles"
   ]
  },
  {
   "cell_type": "code",
   "execution_count": 26,
   "metadata": {
    "collapsed": false
   },
   "outputs": [
    {
     "name": "stdout",
     "output_type": "stream",
     "text": [
      "((((0, 0, 0, 0, 0, 1), (0, 0, 0, 0, 1, 1), (0, 0, 0, 0, 1, 1)), ((0, 0, 0, 0, 0, 0), (0, 0, 0, 0, 0, 0), (0, 0, 0, 0, 0, 1))), 0, 0, (0, 3, 0), 10)\n",
      "---\n",
      "[(0, 3), (0, 4), (0, 5), (1, 3), (1, 4), (1, 5), (2, 3), (2, 4), (2, 5), (3, 3), (3, 4), (3, 5), (4, 3), (4, 4), (4, 5), (5, 3), (5, 4), (5, 5)]\n"
     ]
    }
   ],
   "source": [
    "#(tile, flip,tileside,xyz,indt)\n",
    "def v2xy(v):\n",
    "    x,y,z = v[3][0], v[3][1], v[3][2]\n",
    "    xiter,yiter = (range(3),range(6)) if z else (range(6),range(3))\n",
    "    return [(xx+x,yy+y) for xx in xiter for yy in yiter]\n",
    "\n",
    "print valid[0]\n",
    "print '---'\n",
    "print v2xy(valid[0])\n",
    "    "
   ]
  },
  {
   "cell_type": "code",
   "execution_count": 29,
   "metadata": {
    "collapsed": false
   },
   "outputs": [
    {
     "name": "stdout",
     "output_type": "stream",
     "text": [
      "[54, 72, 90, 55, 73, 91, 56, 74, 92, 57, 75, 93, 58, 76, 94, 59, 77, 95]\n"
     ]
    }
   ],
   "source": [
    "def xy2map(xy):\n",
    "    x,y = xy[0],xy[1]\n",
    "    return (y*_SXDOTS)+x \n",
    "print map(xy2map, v2xy(valid[0]))\n"
   ]
  },
  {
   "cell_type": "code",
   "execution_count": 33,
   "metadata": {
    "collapsed": false
   },
   "outputs": [],
   "source": [
    "tile_xy = [ map(lambda q: (v[4],q), map( xy2map, v2xy(v) ) ) for v in valid ]"
   ]
  },
  {
   "cell_type": "code",
   "execution_count": 49,
   "metadata": {
    "collapsed": false
   },
   "outputs": [
    {
     "name": "stdout",
     "output_type": "stream",
     "text": [
      "126 126 2268\n"
     ]
    },
    {
     "data": {
      "text/plain": [
       "2286"
      ]
     },
     "execution_count": 49,
     "metadata": {},
     "output_type": "execute_result"
    }
   ],
   "source": [
    "print len(tile_xy), len(valid) , len(valid)*18\n",
    "tile_xy_flat = reduce(lambda x,y: x+y,tile_xy)\n",
    "len(tile_xy_flat)"
   ]
  },
  {
   "cell_type": "code",
   "execution_count": 50,
   "metadata": {
    "collapsed": false
   },
   "outputs": [
    {
     "name": "stdout",
     "output_type": "stream",
     "text": [
      "[(8, 0), (10, 0), (4, 0), (7, 0), (9, 0), (11, 0), (4, 0), (7, 0), (9, 0), (11, 0)]\n"
     ]
    }
   ],
   "source": [
    "# (tilenum, xymap): all tilenums that satisfy at that xymap of the canvas\n",
    "xy_satisfied = [  filter(lambda tup: tup[1] == i,tile_xy_flat ) \n",
    "                for i in range(_SYVECS * _SXDOTS) ] \n",
    "print xy_satisfied[0]"
   ]
  },
  {
   "cell_type": "code",
   "execution_count": 54,
   "metadata": {
    "collapsed": false
   },
   "outputs": [
    {
     "name": "stdout",
     "output_type": "stream",
     "text": [
      "[10, 10, 10, 7, 7, 7, 6, 6, 6, 6, 6, 6, 7, 7, 7, 10, 10, 10, 10, 10, 10, 7, 7, 7, 6, 6, 6, 6, 6, 6, 7, 7, 7, 10, 10, 10, 10, 10, 10, 7, 7, 7, 6, 6, 6, 6, 6, 6, 7, 7, 7, 10, 10, 10, 18, 18, 18, 8, 8, 8, 15, 15, 15, 15, 15, 15, 7, 7, 7, 17, 17, 17, 18, 18, 18, 8, 8, 8, 15, 15, 15, 15, 15, 15, 7, 7, 7, 17, 17, 17, 18, 18, 18, 8, 8, 8, 15, 15, 15, 15, 15, 15, 7, 7, 7, 17, 17, 17, 18, 18, 18, 8, 8, 8, 15, 15, 15, 15, 15, 15, 8, 8, 8, 18, 18, 18, 18, 18, 18, 8, 8, 8, 15, 15, 15, 15, 15, 15, 8, 8, 8, 18, 18, 18, 18, 18, 18, 8, 8, 8, 15, 15, 15, 15, 15, 15, 8, 8, 8, 18, 18, 18, 10, 10, 10, 7, 7, 7, 6, 6, 6, 6, 6, 6, 7, 7, 7, 10, 10, 10, 10, 10, 10, 7, 7, 7, 6, 6, 6, 6, 6, 6, 7, 7, 7, 10, 10, 10, 10, 10, 10, 7, 7, 7, 6, 6, 6, 6, 6, 6, 7, 7, 7, 10, 10, 10]\n",
      "6 18\n"
     ]
    }
   ],
   "source": [
    "rare_xy =  map(len,xy_satisfied)\n",
    "print rare_xy\n",
    "print min(rare_xy), max(rare_xy)"
   ]
  },
  {
   "cell_type": "code",
   "execution_count": 106,
   "metadata": {
    "collapsed": false
   },
   "outputs": [
    {
     "name": "stdout",
     "output_type": "stream",
     "text": [
      "216\n",
      "[0, 1, 2, 3, 4, 5, 6, 7, 8, 9, 10, 11, 12, 13, 14, 15, 16, 17, 18, 19, 20, 21, 22, 23, 24, 25, 26, 27, 28, 29, 30, 31, 32, 33, 34, 35, 36, 37, 38, 39, 40, 41, 42, 43, 44, 45, 46, 47, 48, 49, 50, 51, 52, 53, 54, 55, 56, 57, 58, 59, 60, 61, 62, 63, 64, 65, 66, 67, 68, 69, 70, 71, 72, 73, 74, 75, 76, 77, 78, 79, 80, 81, 82, 83, 84, 85, 86, 87, 88, 89, 90, 91, 92, 93, 94, 95, 96, 97, 98, 99, 100, 101, 102, 103, 104, 105, 106, 107, 108, 109, 110, 111, 112, 113, 114, 115, 116, 117, 118, 119, 120, 121, 122, 123, 124, 125, 126, 127, 128, 129, 130, 131, 132, 133, 134, 135, 136, 137, 138, 139, 140, 141, 142, 143, 144, 145, 146, 147, 148, 149, 150, 151, 152, 153, 154, 155, 156, 157, 158, 159, 160, 161, 162, 163, 164, 165, 166, 167, 168, 169, 170, 171, 172, 173, 174, 175, 176, 177, 178, 179, 180, 181, 182, 183, 184, 185, 186, 187, 188, 189, 190, 191, 192, 193, 194, 195, 196, 197, 198, 199, 200, 201, 202, 203, 204, 205, 206, 207, 208, 209, 210, 211, 212, 213, 214, 215]\n"
     ]
    }
   ],
   "source": [
    "print _SXDOTS * _SYVECS\n",
    "ss = [(y*_SXDOTS)+x for y in range(_SYVECS) for x in range(_SXDOTS) ]\n",
    "print ss"
   ]
  },
  {
   "cell_type": "code",
   "execution_count": 18,
   "metadata": {
    "collapsed": true
   },
   "outputs": [],
   "source": [
    "def matchtile(tile,flip,xyz):\n",
    "    x,y,z = xyz[0], xyz[1], xyz[2]\n",
    "    r0, r1 = range(3), range(6)\n",
    "    xiter, yiter = (r0,r1) if z else (r1,r0)\n",
    "    try:\n",
    "        out = all( [s[y+ y0][x + x0] == tilemark(tile,x0,y0,z,flip) for x0 in xiter for y0 in yiter])\n",
    "        return out\n",
    "    except:\n",
    "        return False #error occurs because some shapes are bigger than smallest mod\n",
    "    "
   ]
  },
  {
   "cell_type": "code",
   "execution_count": 122,
   "metadata": {
    "collapsed": false
   },
   "outputs": [],
   "source": [
    "#valid: (tile, flip,tileside,xyz,indt)\n",
    "layout = []\n",
    "temp = valid[:]\n",
    "common_tiles = [(i,valid_tiles.count(i)) for i in range (_TILES)]\n",
    "common_tiles.sort(key = lambda t: t[1])\n",
    "\n",
    "for i in range(_TILES):\n",
    "    tile_ind = common_tiles[i]\n",
    "    temp = filter(lambda t: t[4] != tile_ind ,temp)\n",
    "    layout.append( (indt,tileside,xyz) )\n",
    "    "
   ]
  },
  {
   "cell_type": "code",
   "execution_count": 123,
   "metadata": {
    "collapsed": false
   },
   "outputs": [
    {
     "data": {
      "text/plain": [
       "[(11, 1, (15, 9, 1)),\n",
       " (11, 1, (15, 9, 1)),\n",
       " (11, 1, (15, 9, 1)),\n",
       " (11, 1, (15, 9, 1)),\n",
       " (11, 1, (15, 9, 1)),\n",
       " (11, 1, (15, 9, 1)),\n",
       " (11, 1, (15, 9, 1)),\n",
       " (11, 1, (15, 9, 1)),\n",
       " (11, 1, (15, 9, 1)),\n",
       " (11, 1, (15, 9, 1)),\n",
       " (11, 1, (15, 9, 1)),\n",
       " (11, 1, (15, 9, 1))]"
      ]
     },
     "execution_count": 123,
     "metadata": {},
     "output_type": "execute_result"
    }
   ],
   "source": [
    "layout"
   ]
  },
  {
   "cell_type": "code",
   "execution_count": 6,
   "metadata": {
    "collapsed": true
   },
   "outputs": [],
   "source": [
    "def recurse_dims(obj):\n",
    "    try:\n",
    "        \n",
    "        next = obj[:]\n",
    "    except:\n",
    "        return []\n",
    "    dims = []\n",
    "    for i in range(1000):\n",
    "        try:\n",
    "            if len(next) > 0:\n",
    "                dims.append(len(next))\n",
    "            else:\n",
    "                break\n",
    "        except:\n",
    "            break\n",
    "        next = next[0]\n",
    "    return dims"
   ]
  },
  {
   "cell_type": "code",
   "execution_count": 2,
   "metadata": {
    "collapsed": true
   },
   "outputs": [],
   "source": [
    "SOLUTION = [\n",
    "    (0,0,0,0,0,0,0,0,0,0,0,0,0,0,0,0,0,0),\n",
    "    (0,0,0,0,0,0,0,1,1,1,1,0,0,0,0,0,0,0),\n",
    "    (0,0,0,0,0,1,1,1,1,1,1,1,1,0,0,0,0,0),\n",
    "    (0,0,0,0,0,1,1,1,1,1,1,1,1,0,0,0,0,0),\n",
    "    (0,0,0,0,1,1,1,1,1,1,1,1,1,1,0,0,0,0),\n",
    "    (0,0,0,0,1,1,1,1,1,1,1,1,1,1,0,0,0,0),\n",
    "    (0,0,0,0,1,1,1,1,1,1,1,1,1,1,0,0,0,0),\n",
    "    (0,0,0,0,1,1,1,1,1,1,1,1,1,1,0,0,0,0),\n",
    "    (0,0,0,0,0,1,1,1,1,1,1,1,1,0,0,0,0,0),\n",
    "    (0,0,0,0,0,1,1,1,1,1,1,1,1,0,0,0,0,0),\n",
    "    (0,0,0,0,0,0,0,1,1,1,1,0,0,0,0,0,0,0),\n",
    "    (0,0,0,0,0,0,0,0,0,0,0,0,0,0,0,0,0,0),\n",
    "]"
   ]
  },
  {
   "cell_type": "code",
   "execution_count": 1,
   "metadata": {
    "collapsed": true
   },
   "outputs": [],
   "source": [
    "TILES = [\n",
    "    (\n",
    "        ((1,1,1,1,1,1), (1,1,1,1,1,1), (1,1,1,1,1,1)),\n",
    "        ((0,1,1,1,1,1), (0,1,1,1,1,1), (0,0,1,1,1,1)),\n",
    "    ),\n",
    "    (\n",
    "        ((1,1,1,1,1,1), (1,1,1,1,1,1), (1,1,1,1,1,1)),\n",
    "        ((1,1,0,0,0,0), (1,1,0,0,0,0), (1,0,0,0,0,0)),\n",
    "    ),\n",
    "    (\n",
    "        ((1,1,1,1,1,1), (1,1,1,1,1,1), (1,1,1,1,1,1)),\n",
    "        ((0,0,0,0,0,0), (1,1,0,0,0,0), (1,1,1,1,0,0)),\n",
    "    ),\n",
    "    (\n",
    "        ((1,1,1,1,1,1), (0,1,1,1,1,0), (0,0,0,0,0,0)),\n",
    "        ((1,1,1,1,0,0), (1,1,0,0,0,0), (0,0,0,0,0,0)),\n",
    "    ),\n",
    "    (\n",
    "        ((1,1,1,1,1,1), (0,1,1,1,1,0), (0,0,0,0,0,0)),\n",
    "        ((0,0,0,0,0,0), (0,0,0,0,0,0), (0,0,0,0,0,0)),\n",
    "    ),\n",
    "    (\n",
    "        ((1,1,1,1,1,0), (1,1,1,1,1,0), (1,1,1,1,0,0)),\n",
    "        ((0,0,0,0,0,0), (0,0,0,0,0,0), (1,0,0,0,0,0)),\n",
    "    ),\n",
    "    (\n",
    "        ((1,1,1,1,0,0), (1,1,1,1,1,0), (1,1,1,1,1,0)),\n",
    "        ((0,0,1,1,1,1), (0,0,0,0,1,1), (0,0,0,0,0,0)),\n",
    "    ),\n",
    "    (\n",
    "        ((0,0,0,0,0,0), (0,0,0,0,1,1), (0,0,1,1,1,1)),\n",
    "        ((0,0,0,0,0,0), (0,0,0,0,0,0), (0,0,0,0,0,0)),\n",
    "    ),\n",
    "    (\n",
    "        ((0,0,1,1,1,1), (0,0,0,0,1,1), (0,0,0,0,0,0)),\n",
    "        ((0,0,0,0,0,0), (0,0,0,0,0,0), (0,0,0,0,0,1)),\n",
    "    ),\n",
    "    (\n",
    "        ((0,0,0,0,1,1), (0,0,0,0,1,1), (0,0,0,0,0,1)),\n",
    "        ((0,0,0,0,0,0), (0,0,0,0,0,0), (0,0,0,0,0,0)),\n",
    "    ),\n",
    "    (\n",
    "        ((0,0,0,0,0,1), (0,0,0,0,1,1), (0,0,0,0,1,1)),\n",
    "        ((0,0,0,0,0,0), (0,0,0,0,0,0), (0,0,0,0,0,1)),\n",
    "    ),\n",
    "    (\n",
    "        ((0,0,0,0,0,1), (0,0,0,0,0,0), (0,0,0,0,0,0)),\n",
    "        ((0,0,0,0,0,0), (0,0,0,0,0,0), (0,0,0,0,0,0)),\n",
    "    ),\n",
    "]"
   ]
  },
  {
   "cell_type": "code",
   "execution_count": null,
   "metadata": {
    "collapsed": true
   },
   "outputs": [],
   "source": []
  }
 ],
 "metadata": {
  "kernelspec": {
   "display_name": "Python 2",
   "language": "python",
   "name": "python2"
  },
  "language_info": {
   "codemirror_mode": {
    "name": "ipython",
    "version": 2
   },
   "file_extension": ".py",
   "mimetype": "text/x-python",
   "name": "python",
   "nbconvert_exporter": "python",
   "pygments_lexer": "ipython2",
   "version": "2.7.9"
  }
 },
 "nbformat": 4,
 "nbformat_minor": 0
}
