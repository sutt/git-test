{
 "cells": [
  {
   "cell_type": "code",
   "execution_count": 1,
   "metadata": {
    "collapsed": true
   },
   "outputs": [],
   "source": [
    "import os,sys\n",
    "import sqlite3"
   ]
  },
  {
   "cell_type": "code",
   "execution_count": 4,
   "metadata": {
    "collapsed": false
   },
   "outputs": [],
   "source": [
    "subdir, dbname = 'data', 'db1'\n",
    "\n",
    "path = os.getcwd() \n",
    "\n",
    "if os.listdir(path).count(subdir) == 0:\n",
    "    os.mkdir(path + '\\\\' + subdir)"
   ]
  },
  {
   "cell_type": "code",
   "execution_count": 19,
   "metadata": {
    "collapsed": false
   },
   "outputs": [],
   "source": [
    "path = os.getcwd() + '\\\\' + subdir + '\\\\' + dbname\n",
    "conn = sqlite3.connect(path, timeout = 10)"
   ]
  },
  {
   "cell_type": "code",
   "execution_count": 20,
   "metadata": {
    "collapsed": true
   },
   "outputs": [],
   "source": [
    "c = conn.cursor()"
   ]
  },
  {
   "cell_type": "code",
   "execution_count": 98,
   "metadata": {
    "collapsed": true
   },
   "outputs": [],
   "source": [
    "qry = '''drop table if exists e'''\n",
    "c.execute(qry)\n",
    "conn.commit()"
   ]
  },
  {
   "cell_type": "code",
   "execution_count": 99,
   "metadata": {
    "collapsed": false
   },
   "outputs": [],
   "source": [
    "qry = '''create table if not exists \n",
    "            e(id integer primary key, \n",
    "            eventuuid text unique,\n",
    "            timestamp date default (datetime('now','localtime')),\n",
    "            othertext text default 'blah',\n",
    "            otherint integer default 0)'''\n",
    "c.execute(qry)\n",
    "conn.commit()"
   ]
  },
  {
   "cell_type": "code",
   "execution_count": 48,
   "metadata": {
    "collapsed": true
   },
   "outputs": [],
   "source": [
    "#sqlite3 locking/concurrency - https://www.sqlite.org/lockingv3.html"
   ]
  },
  {
   "cell_type": "code",
   "execution_count": 49,
   "metadata": {
    "collapsed": true
   },
   "outputs": [],
   "source": [
    "#SQLAlchemy - Object relational Mapping\n",
    "#http://www.pythoncentral.io/introductory-tutorial-python-sqlalchemy/"
   ]
  },
  {
   "cell_type": "code",
   "execution_count": 45,
   "metadata": {
    "collapsed": false
   },
   "outputs": [],
   "source": [
    "#Note that current_timestamp is precise to the second, \n",
    "#if you want milliseconds use default (STRFTIME('%Y-%m-%d %H:%M:%f', 'NOW'))"
   ]
  },
  {
   "cell_type": "code",
   "execution_count": 50,
   "metadata": {
    "collapsed": false
   },
   "outputs": [
    {
     "data": {
      "text/plain": [
       "26"
      ]
     },
     "execution_count": 50,
     "metadata": {},
     "output_type": "execute_result"
    }
   ],
   "source": [
    "alpha = 'abcdefghijklmnopqrstivwxyz'\n",
    "len(alpha)"
   ]
  },
  {
   "cell_type": "code",
   "execution_count": 51,
   "metadata": {
    "collapsed": true
   },
   "outputs": [],
   "source": [
    "import random"
   ]
  },
  {
   "cell_type": "code",
   "execution_count": 60,
   "metadata": {
    "collapsed": false
   },
   "outputs": [
    {
     "data": {
      "text/plain": [
       "[[13, 11, 23, 17, 3, 5],\n",
       " [16, 24, 3, 3, 16, 23],\n",
       " [18, 6, 0, 25, 16, 2],\n",
       " [1, 20, 22, 7, 5, 4],\n",
       " [23, 11, 3, 21, 7, 4],\n",
       " [23, 7, 19, 18, 11, 19],\n",
       " [20, 14, 11, 25, 11, 21],\n",
       " [19, 23, 16, 15, 22, 6],\n",
       " [16, 15, 0, 4, 21, 16],\n",
       " [17, 12, 2, 10, 0, 0]]"
      ]
     },
     "execution_count": 60,
     "metadata": {},
     "output_type": "execute_result"
    }
   ],
   "source": [
    "t_len,num_insts = 6, 10\n",
    "out = map(lambda x: map(lambda x: \n",
    "                        int(random.uniform(0,26)), \n",
    "                        range(t_len) ), range(num_insts ) ) \n"
   ]
  },
  {
   "cell_type": "code",
   "execution_count": 73,
   "metadata": {
    "collapsed": false
   },
   "outputs": [
    {
     "data": {
      "text/plain": [
       "['lokymr',\n",
       " 'ygfrke',\n",
       " 'rpqjir',\n",
       " 'xqstxa',\n",
       " 'mswxro',\n",
       " 'titrzb',\n",
       " 'bxypie',\n",
       " 'ensxxw',\n",
       " 'ipmpyz',\n",
       " 'xeljlh']"
      ]
     },
     "execution_count": 73,
     "metadata": {},
     "output_type": "execute_result"
    }
   ],
   "source": [
    "def rand_a():\n",
    "    return alpha[int(random.uniform(0,len(alpha)))]\n",
    "\n",
    "out2 = [''.join([rand_a() for x in range(t_len)]) for y in range(num_insts)]\n",
    "out2\n",
    "            "
   ]
  },
  {
   "cell_type": "code",
   "execution_count": 85,
   "metadata": {
    "collapsed": false
   },
   "outputs": [
    {
     "ename": "IntegrityError",
     "evalue": "column eventuuid is not unique",
     "output_type": "error",
     "traceback": [
      "\u001b[1;31m---------------------------------------------------------------------------\u001b[0m",
      "\u001b[1;31mIntegrityError\u001b[0m                            Traceback (most recent call last)",
      "\u001b[1;32m<ipython-input-85-fbe587df5024>\u001b[0m in \u001b[0;36m<module>\u001b[1;34m()\u001b[0m\n\u001b[1;32m----> 1\u001b[1;33m \u001b[0mc\u001b[0m\u001b[1;33m.\u001b[0m\u001b[0mexecute\u001b[0m\u001b[1;33m(\u001b[0m\u001b[1;34m'''insert into e(eventuuid) values(?)'''\u001b[0m\u001b[1;33m,\u001b[0m\u001b[1;33m(\u001b[0m\u001b[0mout2\u001b[0m\u001b[1;33m[\u001b[0m\u001b[1;36m0\u001b[0m\u001b[1;33m]\u001b[0m\u001b[1;33m,\u001b[0m\u001b[1;33m)\u001b[0m\u001b[1;33m)\u001b[0m\u001b[1;33m\u001b[0m\u001b[0m\n\u001b[0m",
      "\u001b[1;31mIntegrityError\u001b[0m: column eventuuid is not unique"
     ]
    }
   ],
   "source": [
    "c.execute('''insert into e(eventuuid) values(?)''',(out2[0],))"
   ]
  },
  {
   "cell_type": "code",
   "execution_count": 88,
   "metadata": {
    "collapsed": false
   },
   "outputs": [
    {
     "name": "stdout",
     "output_type": "stream",
     "text": [
      "(<class 'sqlite3.IntegrityError'>, IntegrityError('column eventuuid is not unique',), <traceback object at 0x03464D78>)\n"
     ]
    }
   ],
   "source": [
    "try:\n",
    "    c.execute('''insert into e(eventuuid) values(?)''',(out2[0],))\n",
    "except:\n",
    "    print sys.exc_info()"
   ]
  },
  {
   "cell_type": "code",
   "execution_count": 100,
   "metadata": {
    "collapsed": false
   },
   "outputs": [
    {
     "data": {
      "text/plain": [
       "<sqlite3.Cursor at 0x3422920>"
      ]
     },
     "execution_count": 100,
     "metadata": {},
     "output_type": "execute_result"
    }
   ],
   "source": [
    "out1 = [(v,i) for i,v in enumerate(out2)]\n",
    "c.executemany('''insert into e(eventuuid,otherint) values(?,?)''',out1)"
   ]
  },
  {
   "cell_type": "code",
   "execution_count": 101,
   "metadata": {
    "collapsed": false
   },
   "outputs": [
    {
     "data": {
      "text/plain": [
       "[(1, u'lokymr', u'2015-03-31 16:23:54', u'blah', 0),\n",
       " (2, u'ygfrke', u'2015-03-31 16:23:54', u'blah', 1),\n",
       " (3, u'rpqjir', u'2015-03-31 16:23:54', u'blah', 2),\n",
       " (4, u'xqstxa', u'2015-03-31 16:23:54', u'blah', 3),\n",
       " (5, u'mswxro', u'2015-03-31 16:23:54', u'blah', 4),\n",
       " (6, u'titrzb', u'2015-03-31 16:23:54', u'blah', 5),\n",
       " (7, u'bxypie', u'2015-03-31 16:23:54', u'blah', 6),\n",
       " (8, u'ensxxw', u'2015-03-31 16:23:54', u'blah', 7),\n",
       " (9, u'ipmpyz', u'2015-03-31 16:23:54', u'blah', 8),\n",
       " (10, u'xeljlh', u'2015-03-31 16:23:54', u'blah', 9)]"
      ]
     },
     "execution_count": 101,
     "metadata": {},
     "output_type": "execute_result"
    }
   ],
   "source": [
    "c.execute('select * from e')\n",
    "c.fetchall()"
   ]
  },
  {
   "cell_type": "code",
   "execution_count": null,
   "metadata": {
    "collapsed": true
   },
   "outputs": [],
   "source": [
    "conn."
   ]
  },
  {
   "cell_type": "code",
   "execution_count": null,
   "metadata": {
    "collapsed": true
   },
   "outputs": [],
   "source": [
    ")"
   ]
  }
 ],
 "metadata": {
  "kernelspec": {
   "display_name": "Python 2",
   "language": "python",
   "name": "python2"
  },
  "language_info": {
   "codemirror_mode": {
    "name": "ipython",
    "version": 2
   },
   "file_extension": ".py",
   "mimetype": "text/x-python",
   "name": "python",
   "nbconvert_exporter": "python",
   "pygments_lexer": "ipython2",
   "version": "2.7.9"
  }
 },
 "nbformat": 4,
 "nbformat_minor": 0
}
